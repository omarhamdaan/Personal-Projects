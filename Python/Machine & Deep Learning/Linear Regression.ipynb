{
 "cells": [
  {
   "cell_type": "code",
   "execution_count": 2,
   "metadata": {
    "id": "ZvhSlx7aSeKQ"
   },
   "outputs": [],
   "source": [
    "import pandas as pd\n",
    "import matplotlib.pyplot as plt\n",
    "import numpy as np\n"
   ]
  },
  {
   "cell_type": "code",
   "execution_count": null,
   "metadata": {},
   "outputs": [],
   "source": [
    "df = pd.read_csv('foodTruck.csv')"
   ]
  },
  {
   "cell_type": "code",
   "execution_count": 3,
   "metadata": {
    "colab": {
     "base_uri": "https://localhost:8080/"
    },
    "id": "rIiY9z9PSeKS",
    "outputId": "f99e676f-39b8-4b81-ba48-0708ecbdd574"
   },
   "outputs": [
    {
     "data": {
      "text/plain": [
       "pandas.core.frame.DataFrame"
      ]
     },
     "execution_count": 3,
     "metadata": {},
     "output_type": "execute_result"
    }
   ],
   "source": [
    "type(df)"
   ]
  },
  {
   "cell_type": "code",
   "execution_count": 4,
   "metadata": {
    "colab": {
     "base_uri": "https://localhost:8080/",
     "height": 424
    },
    "id": "k3haqCFASeKS",
    "outputId": "e2059959-3c92-4020-b5df-4956a3491512"
   },
   "outputs": [
    {
     "data": {
      "text/html": [
       "<div>\n",
       "<style scoped>\n",
       "    .dataframe tbody tr th:only-of-type {\n",
       "        vertical-align: middle;\n",
       "    }\n",
       "\n",
       "    .dataframe tbody tr th {\n",
       "        vertical-align: top;\n",
       "    }\n",
       "\n",
       "    .dataframe thead th {\n",
       "        text-align: right;\n",
       "    }\n",
       "</style>\n",
       "<table border=\"1\" class=\"dataframe\">\n",
       "  <thead>\n",
       "    <tr style=\"text-align: right;\">\n",
       "      <th></th>\n",
       "      <th>population</th>\n",
       "      <th>profit</th>\n",
       "    </tr>\n",
       "  </thead>\n",
       "  <tbody>\n",
       "    <tr>\n",
       "      <th>0</th>\n",
       "      <td>6.1101</td>\n",
       "      <td>17.59200</td>\n",
       "    </tr>\n",
       "    <tr>\n",
       "      <th>1</th>\n",
       "      <td>5.5277</td>\n",
       "      <td>9.13020</td>\n",
       "    </tr>\n",
       "    <tr>\n",
       "      <th>2</th>\n",
       "      <td>8.5186</td>\n",
       "      <td>13.66200</td>\n",
       "    </tr>\n",
       "    <tr>\n",
       "      <th>3</th>\n",
       "      <td>7.0032</td>\n",
       "      <td>11.85400</td>\n",
       "    </tr>\n",
       "    <tr>\n",
       "      <th>4</th>\n",
       "      <td>5.8598</td>\n",
       "      <td>6.82330</td>\n",
       "    </tr>\n",
       "    <tr>\n",
       "      <th>...</th>\n",
       "      <td>...</td>\n",
       "      <td>...</td>\n",
       "    </tr>\n",
       "    <tr>\n",
       "      <th>92</th>\n",
       "      <td>5.8707</td>\n",
       "      <td>7.20290</td>\n",
       "    </tr>\n",
       "    <tr>\n",
       "      <th>93</th>\n",
       "      <td>5.3054</td>\n",
       "      <td>1.98690</td>\n",
       "    </tr>\n",
       "    <tr>\n",
       "      <th>94</th>\n",
       "      <td>8.2934</td>\n",
       "      <td>0.14454</td>\n",
       "    </tr>\n",
       "    <tr>\n",
       "      <th>95</th>\n",
       "      <td>13.3940</td>\n",
       "      <td>9.05510</td>\n",
       "    </tr>\n",
       "    <tr>\n",
       "      <th>96</th>\n",
       "      <td>5.4369</td>\n",
       "      <td>0.61705</td>\n",
       "    </tr>\n",
       "  </tbody>\n",
       "</table>\n",
       "<p>97 rows × 2 columns</p>\n",
       "</div>"
      ],
      "text/plain": [
       "    population    profit\n",
       "0       6.1101  17.59200\n",
       "1       5.5277   9.13020\n",
       "2       8.5186  13.66200\n",
       "3       7.0032  11.85400\n",
       "4       5.8598   6.82330\n",
       "..         ...       ...\n",
       "92      5.8707   7.20290\n",
       "93      5.3054   1.98690\n",
       "94      8.2934   0.14454\n",
       "95     13.3940   9.05510\n",
       "96      5.4369   0.61705\n",
       "\n",
       "[97 rows x 2 columns]"
      ]
     },
     "execution_count": 4,
     "metadata": {},
     "output_type": "execute_result"
    }
   ],
   "source": [
    "df"
   ]
  },
  {
   "cell_type": "markdown",
   "metadata": {
    "id": "AE4vuG4xSeKT"
   },
   "source": [
    "#### Population is the predictor variable\n",
    "#### Profit is the target variable"
   ]
  },
  {
   "cell_type": "code",
   "execution_count": 5,
   "metadata": {
    "id": "VUC2PcJKSeKU"
   },
   "outputs": [],
   "source": [
    "temp=df.population\n",
    "X=np.array(temp)\n",
    "\n",
    "temp=df.profit\n",
    "Y=temp.to_numpy()"
   ]
  },
  {
   "cell_type": "markdown",
   "metadata": {
    "id": "Nppd7lyTSeKU"
   },
   "source": [
    "## Part 1 Use the Normal Equation to estimate the coeficients of linear model\n",
    "### Linear algebra functions can be found in np.linalg like np.linalg.inv for matrix inverse function\n",
    "### $\\beta = (X^T X)^{-1} X^Ty $\n",
    "#### DO NOT use the SKlearn library\n"
   ]
  },
  {
   "cell_type": "markdown",
   "metadata": {
    "id": "RaGg9-OaSeKV"
   },
   "source": [
    "#### 1- Plot your data using the scatter or the plot function from matplotlib library"
   ]
  },
  {
   "cell_type": "code",
   "execution_count": 6,
   "metadata": {
    "colab": {
     "base_uri": "https://localhost:8080/",
     "height": 283
    },
    "id": "nHAyM0G0SeKV",
    "outputId": "8c721079-60ff-4943-9992-722157a910b5"
   },
   "outputs": [
    {
     "data": {
      "text/plain": [
       "<matplotlib.collections.PathCollection at 0x2a22dbb8dd0>"
      ]
     },
     "execution_count": 6,
     "metadata": {},
     "output_type": "execute_result"
    },
    {
     "data": {
      "image/png": "[encoded data removed]",
      "text/plain": [
       "<Figure size 640x480 with 1 Axes>"
      ]
     },
     "metadata": {},
     "output_type": "display_data"
    }
   ],
   "source": [
    "plt.scatter(X,Y)\n",
    "\n"
   ]
  },
  {
   "cell_type": "markdown",
   "metadata": {
    "id": "IS7PdYvESeKV"
   },
   "source": [
    "#### 2- Estimate the coefficients of the linear model using the normal equation formula\n",
    "\n",
    "#### Make sure the dimensions are compatible \n",
    "#### Print the coeficients"
   ]
  },
  {
   "cell_type": "code",
   "execution_count": 7,
   "metadata": {
    "colab": {
     "base_uri": "https://localhost:8080/"
    },
    "id": "iox0bCIySeKV",
    "outputId": "38ebe42f-2f7c-48e0-d2c2-a16776bf26e3"
   },
   "outputs": [
    {
     "name": "stdout",
     "output_type": "stream",
     "text": [
      "Intercept: [-3.89578088]\n",
      "Slope: [1.19303364]\n"
     ]
    }
   ],
   "source": [
    "X = df['population'].values.reshape(-1, 1)\n",
    "y = df['profit'].values.reshape(-1, 1)\n",
    "X = np.hstack((np.ones((X.shape[0], 1)), X))\n",
    "XTX = np.dot(X.T, X)\n",
    "XTX_inv = np.linalg.inv(XTX)\n",
    "XTy = np.dot(X.T, y)\n",
    "beta = np.dot(XTX_inv, XTy)\n",
    "print('Intercept:', beta[0])\n",
    "print('Slope:', beta[1])\n",
    "\n"
   ]
  },
  {
   "cell_type": "markdown",
   "metadata": {
    "id": "qJEHQNbLSeKV"
   },
   "source": [
    "#### Using the coeficients you estimated , predict the Y values for X values 5 and 23"
   ]
  },
  {
   "cell_type": "code",
   "execution_count": 8,
   "metadata": {
    "colab": {
     "base_uri": "https://localhost:8080/"
    },
    "id": "8OrgHs3QSeKV",
    "outputId": "a61eb37a-5575-4e8f-a1fe-de14c28dc8d4"
   },
   "outputs": [
    {
     "name": "stdout",
     "output_type": "stream",
     "text": [
      "For a population of 5, the predicted profit is: [2.06938734]\n",
      "For a population of 23, the predicted profit is: [23.54399294]\n"
     ]
    }
   ],
   "source": [
    "population_1 = 5\n",
    "population_2 = 23\n",
    "profit_1 = beta[0] + beta[1]*population_1\n",
    "profit_2 = beta[0] + beta[1]*population_2\n",
    "print('For a population of 5, the predicted profit is:', profit_1)\n",
    "print('For a population of 23, the predicted profit is:', profit_2)"
   ]
  },
  {
   "cell_type": "markdown",
   "metadata": {
    "id": "2WGLseidSeKW"
   },
   "source": [
    "#### Plot the data\n",
    "#### Plot the model\n",
    "#### Don't forget to label the axes"
   ]
  },
  {
   "cell_type": "code",
   "execution_count": 9,
   "metadata": {
    "colab": {
     "base_uri": "https://localhost:8080/",
     "height": 280
    },
    "id": "kwvfwbW9SeKW",
    "outputId": "ade18286-6424-452d-a7f3-3f0b92b2e995"
   },
   "outputs": [
    {
     "data": {
      "image/png": "[encoded data removed]",
      "text/plain": [
       "<Figure size 640x480 with 1 Axes>"
      ]
     },
     "metadata": {},
     "output_type": "display_data"
    }
   ],
   "source": [
    "plt.scatter(X[:, 1], y)\n",
    "plt.plot(X[:, 1], np.dot(X, beta), color='red')\n",
    "plt.xlabel('Population')\n",
    "plt.ylabel('Profit')\n",
    "plt.show()"
   ]
  },
  {
   "cell_type": "markdown",
   "metadata": {
    "id": "_PNyW1dWSeKW"
   },
   "source": [
    "#### Calculate R square using the equation we discussed in class"
   ]
  },
  {
   "cell_type": "code",
   "execution_count": 10,
   "metadata": {
    "colab": {
     "base_uri": "https://localhost:8080/"
    },
    "id": "jyyr4aLVSeKW",
    "outputId": "8f9bb666-5389-4b96-c865-5d6ecc0e97ee"
   },
   "outputs": [
    {
     "name": "stdout",
     "output_type": "stream",
     "text": [
      "R-squared: 0.7020315537841397\n"
     ]
    }
   ],
   "source": [
    "y_pred = np.dot(X, beta)\n",
    "TSS = np.sum((y - np.mean(y))**2)\n",
    "RSS = np.sum((y - y_pred)**2)\n",
    "r_squared = 1 - RSS/TSS\n",
    "print('R-squared:', r_squared)"
   ]
  },
  {
   "cell_type": "markdown",
   "metadata": {
    "id": "APzvd3ANSeKW"
   },
   "source": [
    "## Part 2: Use gradient descent to estimate the coeficients of linear model\n",
    "#### DO NOT use the SKlearn library"
   ]
  },
  {
   "cell_type": "markdown",
   "metadata": {
    "id": "tuc-s_RuSeKW"
   },
   "source": [
    "### Write a function computeCost that measures the Mean square error of a particular set of coefficients\n",
    "### taking as input vector beta that contains those coeficients, the predictor and target variable and returning the cost\n",
    "### $J(\\beta ) = -\\sum_{i=1}^m(f(x)-y_i)^2$\n",
    "### $J(\\beta ) = \\frac {1} {m} (X \\beta -y)^T (X \\beta -y)$\n"
   ]
  },
  {
   "cell_type": "code",
   "execution_count": 11,
   "metadata": {
    "id": "L0zHKX-ySeKW"
   },
   "outputs": [],
   "source": [
    "def computeCost(x,y,beta):\n",
    "    m = len(y)\n",
    "    cost = np.sum((np.dot(X, beta) - y)**2)/(2*m)\n",
    "    \n",
    "    return cost;"
   ]
  },
  {
   "cell_type": "markdown",
   "metadata": {
    "id": "sInUHAUISeKX"
   },
   "source": [
    "### Write a function gradientDescent that uses the algorithm discussed in class and iteratively estimates the coefficients of the linear model\n",
    "\n",
    "#### Repeat until convergence{\n",
    "####         $\\beta_j = \\beta_j -\\alpha \\frac{1}{m} \\sum_{i=1}^m((f(x_i) - y_i).x_j)$\n",
    "####       for j =0,..n }\n",
    "#### update coeficients sumiltaneously"
   ]
  },
  {
   "cell_type": "code",
   "execution_count": 12,
   "metadata": {
    "id": "eCF1hma7SeKX"
   },
   "outputs": [],
   "source": [
    "def gradientDescent(X, y, beta, alpha, iters):\n",
    "    m = len(y)\n",
    "    cost_history = np.zeros((iters, 1))\n",
    "    for i in range(iters):\n",
    "        h = np.dot(X, beta)\n",
    "        for j in range(len(beta)):\n",
    "            beta[j] = beta[j] - alpha*(np.sum((h - y)*X[:,j].reshape(-1, 1))/m)\n",
    "        cost_history[i] = computeCost(X, y, beta)\n",
    "    return beta, cost_history"
   ]
  },
  {
   "cell_type": "markdown",
   "metadata": {
    "id": "rG9OJKipSeKX"
   },
   "source": [
    "#### Initialize the values of beta use these initial values to run the gradient descent function\n",
    "#### Make sure the dimensions are compatible \n",
    "#### print the coeficients estimated using gradient descent"
   ]
  },
  {
   "cell_type": "code",
   "execution_count": 13,
   "metadata": {
    "colab": {
     "base_uri": "https://localhost:8080/"
    },
    "id": "U9qeyPKySeKX",
    "outputId": "0247ba1b-3489-4af8-93c1-e07c9331fead"
   },
   "outputs": [
    {
     "name": "stdout",
     "output_type": "stream",
     "text": [
      "Intercept: [-3.24140214]\n",
      "Slope: [1.1272942]\n",
      "Final Cost: [4.5159555]\n"
     ]
    }
   ],
   "source": [
    "X = df['population'].values.reshape(-1, 1)\n",
    "y = df['profit'].values.reshape(-1, 1)\n",
    "X = np.hstack((np.ones((X.shape[0], 1)), X))\n",
    "alpha = 0.01\n",
    "iters = 1000\n",
    "beta = np.zeros((2, 1))\n",
    "beta, cost_history = gradientDescent(X, y, beta, alpha, iters)\n",
    "print('Intercept:', beta[0])\n",
    "print('Slope:', beta[1])\n",
    "print('Final Cost:', cost_history[-1])"
   ]
  },
  {
   "cell_type": "markdown",
   "metadata": {
    "id": "hayJg6p0SeKX"
   },
   "source": [
    "#### Plot the data\n",
    "#### Plot the model\n",
    "#### Don't forget to label the axes"
   ]
  },
  {
   "cell_type": "code",
   "execution_count": 14,
   "metadata": {
    "colab": {
     "base_uri": "https://localhost:8080/",
     "height": 280
    },
    "id": "uMApRkhXSeKY",
    "outputId": "c5eca7dd-3b45-4b60-c1b9-88e560c8203c"
   },
   "outputs": [
    {
     "data": {
      "image/png": "[encoded data removed]",
      "text/plain": [
       "<Figure size 640x480 with 1 Axes>"
      ]
     },
     "metadata": {},
     "output_type": "display_data"
    }
   ],
   "source": [
    "plt.scatter(X[:,1], y)\n",
    "plt.plot(X[:,1], np.dot(X, beta), color='black')\n",
    "plt.xlabel('Population')\n",
    "plt.ylabel('Profit')\n",
    "plt.show()"
   ]
  },
  {
   "cell_type": "markdown",
   "metadata": {
    "id": "-UZ7gWXpSeKY"
   },
   "source": [
    "#### Plot the cost history as a function of the iterations\n",
    "#### cost history on the y axis, iteration number on the x axis\n",
    "#### Don't forget to label the axes"
   ]
  },
  {
   "cell_type": "code",
   "execution_count": 15,
   "metadata": {
    "colab": {
     "base_uri": "https://localhost:8080/",
     "height": 279
    },
    "id": "FUmRv-ZqSeKY",
    "outputId": "8f06977c-c831-4448-b0d1-69a54cfa9fbe"
   },
   "outputs": [
    {
     "data": {
      "image/png": "[encoded data removed]",
      "text/plain": [
       "<Figure size 640x480 with 1 Axes>"
      ]
     },
     "metadata": {},
     "output_type": "display_data"
    }
   ],
   "source": [
    "plt.plot(cost_history)\n",
    "plt.xlabel('Number of Iterations')\n",
    "plt.ylabel('Cost')\n",
    "plt.show()"
   ]
  },
  {
   "cell_type": "markdown",
   "metadata": {
    "id": "MEHYXYJMSeKY"
   },
   "source": [
    "## Part 3: Use the SKlearn library to estimate the coefficients of a linear regression model\n",
    "### use your research skills to implement this part"
   ]
  },
  {
   "cell_type": "code",
   "execution_count": 17,
   "metadata": {
    "colab": {
     "base_uri": "https://localhost:8080/"
    },
    "id": "KmeR2SkZSeKY",
    "outputId": "4ac9c32e-f31a-4513-8264-4a230feb8fcc"
   },
   "outputs": [
    {
     "name": "stdout",
     "output_type": "stream",
     "text": [
      "Intercept: [-3.89578088]\n",
      "Slope: [1.19303364]\n",
      "Predicted profits: [[ 2.06938734]\n",
      " [23.54399294]]\n"
     ]
    }
   ],
   "source": [
    "import pandas as pd\n",
    "from sklearn.linear_model import LinearRegression\n",
    "\n",
    "# Load the data into a Pandas DataFrame\n",
    "df = pd.read_csv('foodTruck.csv')\n",
    "\n",
    "# Extract the population and profit columns\n",
    "X = df['population'].values.reshape(-1, 1)\n",
    "y = df['profit'].values.reshape(-1, 1)\n",
    "\n",
    "# Create a LinearRegression object\n",
    "regressor = LinearRegression()\n",
    "\n",
    "# Fit the linear regression model to the data\n",
    "regressor.fit(X, y)\n",
    "\n",
    "# Print the intercept and slope of the linear regression model\n",
    "print('Intercept:', regressor.intercept_)\n",
    "print('Slope:', regressor.coef_[0])\n",
    "\n",
    "# Predict the profit for a population of 5 and 23\n",
    "X_test = [[5], [23]]\n",
    "y_pred = regressor.predict(X_test)\n",
    "print('Predicted profits:', y_pred)"
   ]
  },
  {
   "cell_type": "markdown",
   "metadata": {
    "id": "SUh1SsQNSeKY"
   },
   "source": [
    "#### Plot the data\n",
    "#### Plot the model\n",
    "#### Don't forget to label the axes"
   ]
  },
  {
   "cell_type": "code",
   "execution_count": 18,
   "metadata": {
    "colab": {
     "base_uri": "https://localhost:8080/",
     "height": 280
    },
    "id": "B2y9hXf-SeKY",
    "outputId": "396e1869-07f0-4962-ae08-8b6c138a478b"
   },
   "outputs": [
    {
     "data": {
      "image/png": "[encoded data removed]",
      "text/plain": [
       "<Figure size 640x480 with 1 Axes>"
      ]
     },
     "metadata": {},
     "output_type": "display_data"
    }
   ],
   "source": [
    "plt.scatter(X, y, color='blue')\n",
    "plt.xlabel('Population')\n",
    "plt.ylabel('Profit')\n",
    "\n",
    "# Plot the linear regression model\n",
    "plt.plot(X, regressor.predict(X), color='red')\n",
    "plt.show()"
   ]
  }
 ],
 "metadata": {
  "colab": {
   "provenance": [],
   "toc_visible": true
  },
  "kernelspec": {
   "display_name": "Python 3 (ipykernel)",
   "language": "python",
   "name": "python3"
  },
  "language_info": {
   "codemirror_mode": {
    "name": "ipython",
    "version": 3
   },
   "file_extension": ".py",
   "mimetype": "text/x-python",
   "name": "python",
   "nbconvert_exporter": "python",
   "pygments_lexer": "ipython3",
   "version": "3.11.3"
  }
 },
 "nbformat": 4,
 "nbformat_minor": 4
}
