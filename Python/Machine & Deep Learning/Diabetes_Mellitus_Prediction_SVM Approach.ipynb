{
 "cells": [
  {
   "cell_type": "code",
   "execution_count": 8,
   "id": "6d356590",
   "metadata": {
    "id": "6d356590"
   },
   "outputs": [],
   "source": [
    "import numpy as np \n",
    "import pandas as pd\n",
    "import pandas as pd\n",
    "from sklearn.model_selection import train_test_split\n",
    "from sklearn.impute import SimpleImputer\n",
    "from sklearn.preprocessing import StandardScaler\n",
    "from sklearn.svm import SVC\n",
    "from sklearn.metrics import accuracy_score\n",
    "from imblearn.over_sampling import SMOTE"
   ]
  },
  {
   "cell_type": "code",
   "execution_count": 9,
   "id": "895d5112",
   "metadata": {
    "id": "895d5112"
   },
   "outputs": [],
   "source": [
    "df = pd.read_csv (\"diabetes.csv\")"
   ]
  },
  {
   "cell_type": "code",
   "execution_count": 10,
   "id": "6107940a",
   "metadata": {
    "colab": {
     "base_uri": "https://localhost:8080/"
    },
    "id": "6107940a",
    "outputId": "9db3ccb0-7f0d-4dc6-8e7d-32da861e9929"
   },
   "outputs": [
    {
     "data": {
      "text/plain": [
       "(78094, 126)"
      ]
     },
     "execution_count": 10,
     "metadata": {},
     "output_type": "execute_result"
    }
   ],
   "source": [
    "df.shape"
   ]
  },
  {
   "cell_type": "code",
   "execution_count": 11,
   "id": "53e9bc64",
   "metadata": {
    "id": "53e9bc64"
   },
   "outputs": [],
   "source": [
    "Y = df['diabetes_mellitus'] ## Label, target variable, 0 --> doesn't have diabetes_mellitus, \n",
    "                                                        #   1 --> does have diabetes_mellitus\n",
    "X = df.drop(columns=['diabetes_mellitus']) ## 125 feature data set"
   ]
  },
  {
   "cell_type": "code",
   "execution_count": 12,
   "id": "af548f83",
   "metadata": {
    "colab": {
     "base_uri": "https://localhost:8080/"
    },
    "id": "af548f83",
    "outputId": "29ff8020-2a1d-4e1b-ab46-993d04b20195"
   },
   "outputs": [
    {
     "data": {
      "text/plain": [
       "(78094, 125)"
      ]
     },
     "execution_count": 12,
     "metadata": {},
     "output_type": "execute_result"
    }
   ],
   "source": [
    "X.shape"
   ]
  },
  {
   "cell_type": "code",
   "execution_count": 13,
   "id": "fa6ad5fe",
   "metadata": {
    "colab": {
     "base_uri": "https://localhost:8080/"
    },
    "id": "fa6ad5fe",
    "outputId": "73402cda-4dc5-4b16-9e98-0d6847f908af"
   },
   "outputs": [
    {
     "data": {
      "text/plain": [
       "(78094,)"
      ]
     },
     "execution_count": 13,
     "metadata": {},
     "output_type": "execute_result"
    }
   ],
   "source": [
    "Y.shape"
   ]
  },
  {
   "cell_type": "code",
   "execution_count": null,
   "id": "75a2b4ff-ca3b-49cf-b246-e1eeebe9e501",
   "metadata": {},
   "outputs": [],
   "source": [
    "def preprocess_data(train_data, test_data):\n",
    "    remove_columns = [\"hospital_id\", \"nan_counts\", \"icu_id\"]\n",
    "    train_data.drop(remove_columns, axis=1, inplace=True)\n",
    "    test_data.drop(remove_columns, axis=1, inplace=True)\n",
    "\n",
    "    y_train = train_data['diabetes_mellitus']\n",
    "    x_train = train_data.drop(columns=['diabetes_mellitus'])\n",
    "\n",
    "    numeric_cols = x_train.select_dtypes(include=['int64', 'float64']).columns\n",
    "    categorical_cols = x_train.select_dtypes(include=['object']).columns\n",
    "\n",
    "    imputer = SimpleImputer(strategy='mean')\n",
    "    x_train[numeric_cols] = imputer.fit_transform(x_train[numeric_cols])\n",
    "    test_data[numeric_cols] = imputer.transform(test_data[numeric_cols])\n",
    "\n",
    "    scaler = StandardScaler()\n",
    "    x_train[numeric_cols] = scaler.fit_transform(x_train[numeric_cols])\n",
    "    test_data[numeric_cols] = scaler.transform(test_data[numeric_cols])\n",
    "\n",
    "    x_train_encoded = pd.get_dummies(x_train, columns=categorical_cols, drop_first=True)\n",
    "    test_data_encoded = pd.get_dummies(test_data, columns=categorical_cols, drop_first=True)\n",
    "\n",
    "    x_train_encoded, test_data_encoded = x_train_encoded.align(test_data_encoded, join='inner', axis=1, fill_value=0)\n",
    "\n",
    "    return x_train_encoded, y_train, test_data_encoded"
   ]
  },
  {
   "cell_type": "code",
   "execution_count": null,
   "id": "f56e5535-a93b-435c-8db7-ebebc1c7c760",
   "metadata": {},
   "outputs": [],
   "source": [
    "def save_submission(predictions_binary, test_data, filename='Sample_SubmissionSVM.csv'):\n",
    "    submission_df = pd.DataFrame()\n",
    "    submission_df['ID'] = test_data['encounter_id']\n",
    "    submission_df['diabetes_mellitus'] = predictions_binary\n",
    "\n",
    "    submission_df.to_csv(filename, index=False)"
   ]
  },
  {
   "cell_type": "code",
   "execution_count": 14,
   "id": "b089a182",
   "metadata": {
    "colab": {
     "base_uri": "https://localhost:8080/"
    },
    "id": "b089a182",
    "outputId": "eb808e76-ae8f-4899-d1ab-1e238d54b1a6"
   },
   "outputs": [
    {
     "name": "stdout",
     "output_type": "stream",
     "text": [
      "Accuracy score:  0.8172777327244014\n"
     ]
    }
   ],
   "source": [
    "\n",
    "train_data = pd.read_csv(\"diabetes.csv\")\n",
    "test_data = pd.read_csv(\"diabetes_test_unlabeled.csv\")\n",
    "test_encounter_id = pd.read_csv(\"diabetes_test_unlabeled.csv\")\n",
    "\n",
    "x_train_encoded, y_train, test_data_encoded = preprocess_data(train_data, test_data)\n",
    "x_train, x_val, y_train, y_val = train_test_split(x_train_encoded, y_train, test_size=0.3, random_state=42)\n",
    "\n",
    "clf = SVC()\n",
    "\n",
    "clf.fit(x_train, y_train)\n",
    "y_pred = clf.predict(x_val)\n",
    "accuracy = accuracy_score(y_val, y_pred)\n",
    "print(\"Accuracy score: \", accuracy)\n",
    "test_predictions_binary = clf.predict(test_data_encoded)\n",
    "save_submission(test_predictions_binary, test_encounter_id, filename='Diabetes_mellitus Using SVM_Predictions.csv')\n"
   ]
  },
  {
   "cell_type": "code",
   "execution_count": null,
   "id": "af_XXRn46kor",
   "metadata": {
    "id": "af_XXRn46kor"
   },
   "outputs": [],
   "source": []
  },
  {
   "cell_type": "code",
   "execution_count": null,
   "id": "H5S5YU966dGQ",
   "metadata": {
    "id": "H5S5YU966dGQ"
   },
   "outputs": [],
   "source": []
  }
 ],
 "metadata": {
  "colab": {
   "provenance": []
  },
  "kernelspec": {
   "display_name": "Python 3 (ipykernel)",
   "language": "python",
   "name": "python3"
  },
  "language_info": {
   "codemirror_mode": {
    "name": "ipython",
    "version": 3
   },
   "file_extension": ".py",
   "mimetype": "text/x-python",
   "name": "python",
   "nbconvert_exporter": "python",
   "pygments_lexer": "ipython3",
   "version": "3.11.3"
  }
 },
 "nbformat": 4,
 "nbformat_minor": 5
}
