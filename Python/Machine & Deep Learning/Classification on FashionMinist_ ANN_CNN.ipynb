{
 "cells": [
  {
   "cell_type": "code",
   "execution_count": 1,
   "id": "35b612dc",
   "metadata": {},
   "outputs": [],
   "source": [
    "import tensorflow as tf\n",
    "from tensorflow import keras\n",
    "import numpy as np\n",
    "from tensorflow.keras.utils import to_categorical\n",
    "import matplotlib.pyplot as plt\n",
    "import pandas as pd\n",
    "\n",
    "#tf.__version__\n",
    "#keras.__version__ "
   ]
  },
  {
   "cell_type": "code",
   "execution_count": 2,
   "id": "86ed6803",
   "metadata": {},
   "outputs": [
    {
     "name": "stdout",
     "output_type": "stream",
     "text": [
      "Downloading data from https://storage.googleapis.com/tensorflow/tf-keras-datasets/train-labels-idx1-ubyte.gz\n",
      "29515/29515 [==============================] - 0s 3us/step\n",
      "Downloading data from https://storage.googleapis.com/tensorflow/tf-keras-datasets/train-images-idx3-ubyte.gz\n",
      "26421880/26421880 [==============================] - 2s 0us/step\n",
      "Downloading data from https://storage.googleapis.com/tensorflow/tf-keras-datasets/t10k-labels-idx1-ubyte.gz\n",
      "5148/5148 [==============================] - 0s 0s/step\n",
      "Downloading data from https://storage.googleapis.com/tensorflow/tf-keras-datasets/t10k-images-idx3-ubyte.gz\n",
      "4422102/4422102 [==============================] - 1s 0us/step\n"
     ]
    }
   ],
   "source": [
    "fashion_mnist = keras.datasets.fashion_mnist\n",
    "(X_train_full, y_train_full), (X_test, y_test) = fashion_mnist.load_data()"
   ]
  },
  {
   "cell_type": "code",
   "execution_count": 3,
   "id": "90397b41",
   "metadata": {},
   "outputs": [
    {
     "data": {
      "text/plain": [
       "(60000, 28, 28)"
      ]
     },
     "execution_count": 3,
     "metadata": {},
     "output_type": "execute_result"
    }
   ],
   "source": [
    "X_train_full.shape"
   ]
  },
  {
   "cell_type": "code",
   "execution_count": 4,
   "id": "9d2ffdee",
   "metadata": {},
   "outputs": [
    {
     "data": {
      "text/plain": [
       "255"
      ]
     },
     "execution_count": 4,
     "metadata": {},
     "output_type": "execute_result"
    }
   ],
   "source": [
    "np.max(X_train_full[0,:, :])"
   ]
  },
  {
   "cell_type": "code",
   "execution_count": 5,
   "id": "02f92316",
   "metadata": {},
   "outputs": [
    {
     "data": {
      "text/plain": [
       "(60000,)"
      ]
     },
     "execution_count": 5,
     "metadata": {},
     "output_type": "execute_result"
    }
   ],
   "source": [
    "y_train_full.shape"
   ]
  },
  {
   "cell_type": "code",
   "execution_count": 6,
   "id": "30885b95",
   "metadata": {},
   "outputs": [
    {
     "data": {
      "text/plain": [
       "(10000, 28, 28)"
      ]
     },
     "execution_count": 6,
     "metadata": {},
     "output_type": "execute_result"
    }
   ],
   "source": [
    "X_test.shape"
   ]
  },
  {
   "cell_type": "code",
   "execution_count": 7,
   "id": "1931cd9d",
   "metadata": {},
   "outputs": [],
   "source": [
    "X_valid, X_train = X_train_full[:5000] / 255.0, X_train_full[5000:] / 255.0\n",
    "y_valid, y_train = y_train_full[:5000], y_train_full[5000:]"
   ]
  },
  {
   "cell_type": "code",
   "execution_count": 8,
   "id": "9e4a129a",
   "metadata": {},
   "outputs": [],
   "source": [
    "class_names = [\"T-shirt/top\", \"Trouser\", \"Pullover\", \"Dress\", \"Coat\",\n",
    "                   \"Sandal\", \"Shirt\", \"Sneaker\", \"Bag\", \"Ankle boot\"]"
   ]
  },
  {
   "cell_type": "code",
   "execution_count": 9,
   "id": "625a6282",
   "metadata": {},
   "outputs": [
    {
     "data": {
      "text/plain": [
       "'Coat'"
      ]
     },
     "execution_count": 9,
     "metadata": {},
     "output_type": "execute_result"
    }
   ],
   "source": [
    "class_names[y_train[0]]"
   ]
  },
  {
   "cell_type": "code",
   "execution_count": 10,
   "id": "2352a436",
   "metadata": {},
   "outputs": [
    {
     "data": {
      "text/plain": [
       "<matplotlib.image.AxesImage at 0x1d5bbbf53d0>"
      ]
     },
     "execution_count": 10,
     "metadata": {},
     "output_type": "execute_result"
    },
    {
     "data": {
      "image/png": "[encoded data removed]",
      "text/plain": [
       "<Figure size 640x480 with 1 Axes>"
      ]
     },
     "metadata": {},
     "output_type": "display_data"
    }
   ],
   "source": [
    "plt.imshow(X_train[0])"
   ]
  },
  {
   "cell_type": "markdown",
   "id": "61c9d78e",
   "metadata": {},
   "source": [
    "### Build an artificial neural network (ANN) using the sequantial model\n",
    "### (ANN) will take the input of the fashion minst images\n",
    "### ANN will have 4 layers: \n",
    "#### First layer has 64 artificial neurons ( A.K.A units)\n",
    "#### Second layer has 32  units \n",
    "#### Thrid layer has 16  units\n",
    "#### Fourth layer  has 10  neurons ( A.K.A units)\n",
    "#### Fifth layer - output layer has 10 units"
   ]
  },
  {
   "cell_type": "code",
   "execution_count": 11,
   "id": "a888f0d8",
   "metadata": {},
   "outputs": [
    {
     "name": "stdout",
     "output_type": "stream",
     "text": [
      "WARNING:tensorflow:From C:\\Users\\omarb\\PythonLab\\Lib\\site-packages\\keras\\src\\backend.py:873: The name tf.get_default_graph is deprecated. Please use tf.compat.v1.get_default_graph instead.\n",
      "\n"
     ]
    }
   ],
   "source": [
    "# Define the sequential model\n",
    "model = keras.Sequential()\n",
    "\n",
    "# Add the layers to the model\n",
    "model.add(keras.layers.Flatten(input_shape=(28, 28)))\n",
    "model.add(keras.layers.Dense(64, activation='relu'))\n",
    "model.add(keras.layers.Dense(32, activation='relu'))\n",
    "model.add(keras.layers.Dense(16, activation='relu'))\n",
    "model.add(keras.layers.Dense(10, activation='softmax'))\n"
   ]
  },
  {
   "cell_type": "code",
   "execution_count": 12,
   "id": "68bbb806",
   "metadata": {},
   "outputs": [
    {
     "name": "stdout",
     "output_type": "stream",
     "text": [
      "Model: \"sequential\"\n",
      "_________________________________________________________________\n",
      " Layer (type)                Output Shape              Param #   \n",
      "=================================================================\n",
      " flatten (Flatten)           (None, 784)               0         \n",
      "                                                                 \n",
      " dense (Dense)               (None, 64)                50240     \n",
      "                                                                 \n",
      " dense_1 (Dense)             (None, 32)                2080      \n",
      "                                                                 \n",
      " dense_2 (Dense)             (None, 16)                528       \n",
      "                                                                 \n",
      " dense_3 (Dense)             (None, 10)                170       \n",
      "                                                                 \n",
      "=================================================================\n",
      "Total params: 53018 (207.10 KB)\n",
      "Trainable params: 53018 (207.10 KB)\n",
      "Non-trainable params: 0 (0.00 Byte)\n",
      "_________________________________________________________________\n"
     ]
    }
   ],
   "source": [
    "model.summary()"
   ]
  },
  {
   "cell_type": "markdown",
   "id": "9ce73984",
   "metadata": {},
   "source": [
    "### Compile the network using sgd or adam as optimizer"
   ]
  },
  {
   "cell_type": "code",
   "execution_count": 13,
   "id": "bcafb543",
   "metadata": {},
   "outputs": [
    {
     "name": "stdout",
     "output_type": "stream",
     "text": [
      "WARNING:tensorflow:From C:\\Users\\omarb\\PythonLab\\Lib\\site-packages\\keras\\src\\optimizers\\__init__.py:309: The name tf.train.Optimizer is deprecated. Please use tf.compat.v1.train.Optimizer instead.\n",
      "\n"
     ]
    }
   ],
   "source": [
    "model.compile(optimizer='adam', loss='categorical_crossentropy', metrics=['accuracy'])\n"
   ]
  },
  {
   "cell_type": "markdown",
   "id": "b87051a1",
   "metadata": {},
   "source": [
    "### Train the network for 20 epochs"
   ]
  },
  {
   "cell_type": "code",
   "execution_count": 14,
   "id": "5d634246",
   "metadata": {},
   "outputs": [
    {
     "name": "stdout",
     "output_type": "stream",
     "text": [
      "Epoch 1/20\n",
      "WARNING:tensorflow:From C:\\Users\\omarb\\PythonLab\\Lib\\site-packages\\keras\\src\\utils\\tf_utils.py:492: The name tf.ragged.RaggedTensorValue is deprecated. Please use tf.compat.v1.ragged.RaggedTensorValue instead.\n",
      "\n",
      "WARNING:tensorflow:From C:\\Users\\omarb\\PythonLab\\Lib\\site-packages\\keras\\src\\engine\\base_layer_utils.py:384: The name tf.executing_eagerly_outside_functions is deprecated. Please use tf.compat.v1.executing_eagerly_outside_functions instead.\n",
      "\n",
      "1719/1719 [==============================] - 3s 1ms/step - loss: 0.5737 - accuracy: 0.7981 - val_loss: 71.1934 - val_accuracy: 0.8181\n",
      "Epoch 2/20\n",
      "1719/1719 [==============================] - 2s 1ms/step - loss: 0.4038 - accuracy: 0.8554 - val_loss: 71.3825 - val_accuracy: 0.8288\n",
      "Epoch 3/20\n",
      "1719/1719 [==============================] - 2s 1ms/step - loss: 0.3665 - accuracy: 0.8677 - val_loss: 60.9977 - val_accuracy: 0.8486\n",
      "Epoch 4/20\n",
      "1719/1719 [==============================] - 2s 1ms/step - loss: 0.3435 - accuracy: 0.8740 - val_loss: 80.1190 - val_accuracy: 0.8130\n",
      "Epoch 5/20\n",
      "1719/1719 [==============================] - 2s 1ms/step - loss: 0.3269 - accuracy: 0.8794 - val_loss: 71.7370 - val_accuracy: 0.8202\n",
      "Epoch 6/20\n",
      "1719/1719 [==============================] - 2s 1ms/step - loss: 0.3117 - accuracy: 0.8856 - val_loss: 58.7350 - val_accuracy: 0.8443\n",
      "Epoch 7/20\n",
      "1719/1719 [==============================] - 2s 1ms/step - loss: 0.3013 - accuracy: 0.8877 - val_loss: 59.7665 - val_accuracy: 0.8430\n",
      "Epoch 8/20\n",
      "1719/1719 [==============================] - 2s 1ms/step - loss: 0.2916 - accuracy: 0.8938 - val_loss: 73.1903 - val_accuracy: 0.8286\n",
      "Epoch 9/20\n",
      "1719/1719 [==============================] - 2s 1ms/step - loss: 0.2810 - accuracy: 0.8954 - val_loss: 72.0231 - val_accuracy: 0.8395\n",
      "Epoch 10/20\n",
      "1719/1719 [==============================] - 2s 1ms/step - loss: 0.2757 - accuracy: 0.8971 - val_loss: 71.6895 - val_accuracy: 0.8335\n",
      "Epoch 11/20\n",
      "1719/1719 [==============================] - 2s 1ms/step - loss: 0.2674 - accuracy: 0.8999 - val_loss: 63.5180 - val_accuracy: 0.8415\n",
      "Epoch 12/20\n",
      "1719/1719 [==============================] - 2s 1ms/step - loss: 0.2587 - accuracy: 0.9025 - val_loss: 65.5248 - val_accuracy: 0.8426\n",
      "Epoch 13/20\n",
      "1719/1719 [==============================] - 2s 1ms/step - loss: 0.2518 - accuracy: 0.9059 - val_loss: 74.0355 - val_accuracy: 0.8315\n",
      "Epoch 14/20\n",
      "1719/1719 [==============================] - 2s 1ms/step - loss: 0.2472 - accuracy: 0.9079 - val_loss: 69.8371 - val_accuracy: 0.8448\n",
      "Epoch 15/20\n",
      "1719/1719 [==============================] - 2s 1ms/step - loss: 0.2416 - accuracy: 0.9094 - val_loss: 57.0121 - val_accuracy: 0.8507\n",
      "Epoch 16/20\n",
      "1719/1719 [==============================] - 3s 1ms/step - loss: 0.2378 - accuracy: 0.9105 - val_loss: 72.8510 - val_accuracy: 0.8325\n",
      "Epoch 17/20\n",
      "1719/1719 [==============================] - 2s 1ms/step - loss: 0.2319 - accuracy: 0.9129 - val_loss: 71.2281 - val_accuracy: 0.8369\n",
      "Epoch 18/20\n",
      "1719/1719 [==============================] - 3s 2ms/step - loss: 0.2289 - accuracy: 0.9129 - val_loss: 80.8171 - val_accuracy: 0.8349\n",
      "Epoch 19/20\n",
      "1719/1719 [==============================] - 3s 2ms/step - loss: 0.2247 - accuracy: 0.9155 - val_loss: 73.7812 - val_accuracy: 0.8302\n",
      "Epoch 20/20\n",
      "1719/1719 [==============================] - 3s 2ms/step - loss: 0.2186 - accuracy: 0.9176 - val_loss: 64.9708 - val_accuracy: 0.8515\n"
     ]
    }
   ],
   "source": [
    "\n",
    "y_train = to_categorical(y_train, num_classes=10)\n",
    "y_test = to_categorical(y_test, num_classes=10)\n",
    "# Train the model on the training data for 20 epochs\n",
    "history = model.fit(X_train, y_train, epochs=20, batch_size=32, validation_data=(X_test, y_test))"
   ]
  },
  {
   "cell_type": "code",
   "execution_count": 15,
   "id": "6c53393a",
   "metadata": {
    "scrolled": true
   },
   "outputs": [
    {
     "data": {
      "text/plain": [
       "(0.0, 1.0)"
      ]
     },
     "execution_count": 15,
     "metadata": {},
     "output_type": "execute_result"
    },
    {
     "data": {
      "image/png": "[encoded data removed]",
      "text/plain": [
       "<Figure size 800x500 with 1 Axes>"
      ]
     },
     "metadata": {},
     "output_type": "display_data"
    }
   ],
   "source": [
    "plt=pd.DataFrame(history.history).plot(figsize=(8, 5)) \n",
    "plt.grid(True)\n",
    "plt.set_ylim(0, 1) # set the vertical range to [0-1] plt.show()"
   ]
  },
  {
   "cell_type": "markdown",
   "id": "ce5a6cf2",
   "metadata": {},
   "source": [
    "### Evaluate the accuracy of the model (the network)"
   ]
  },
  {
   "cell_type": "code",
   "execution_count": 16,
   "id": "5e47e0c9",
   "metadata": {},
   "outputs": [
    {
     "name": "stdout",
     "output_type": "stream",
     "text": [
      "313/313 [==============================] - 0s 903us/step - loss: 64.9708 - accuracy: 0.8515\n",
      "Test accuracy: 0.8514999747276306\n"
     ]
    }
   ],
   "source": [
    "loss, accuracy = model.evaluate(X_test, y_test)\n",
    "print(\"Test accuracy:\", accuracy)\n"
   ]
  },
  {
   "cell_type": "markdown",
   "id": "6335a781",
   "metadata": {},
   "source": [
    "### Predict the label of the thrid data point in the X_test"
   ]
  },
  {
   "cell_type": "code",
   "execution_count": 17,
   "id": "618b1301",
   "metadata": {},
   "outputs": [
    {
     "name": "stdout",
     "output_type": "stream",
     "text": [
      "313/313 [==============================] - 0s 788us/step\n",
      "Predicted label: Trouser\n"
     ]
    }
   ],
   "source": [
    "predictions = model.predict(X_test)\n",
    "label = np.argmax(predictions[2])\n",
    "\n",
    "print(\"Predicted label:\", class_names[label])"
   ]
  },
  {
   "cell_type": "markdown",
   "id": "2714b91e",
   "metadata": {},
   "source": [
    "## Now Build a CNN model to classify the different images of the fashion minst dataset\n",
    "### the CNN will take the input of the fashion minst images\n",
    "### CNN will have 6 layers: \n",
    "#### First layer is a convolutional layer with 6 filters size 3x3 stride of 1 has padding \n",
    "#### Second is a maxpooling layer with a 2x2 kernel size\n",
    "#### Thrid layer is a convolutional layer with 8 filters size 3x3 stride of 1 has padding \n",
    "#### Fourth layer is a maxpooling layer with a 2x2 kernel size\n",
    "#### Fifth layer is a fully connected (desnse layer) with a 16 units \n",
    "#### Sixth layer - fully connected output layer has 10 units"
   ]
  },
  {
   "cell_type": "code",
   "execution_count": 18,
   "id": "c2b95d28",
   "metadata": {},
   "outputs": [
    {
     "name": "stdout",
     "output_type": "stream",
     "text": [
      "WARNING:tensorflow:From C:\\Users\\omarb\\PythonLab\\Lib\\site-packages\\keras\\src\\layers\\pooling\\max_pooling2d.py:161: The name tf.nn.max_pool is deprecated. Please use tf.nn.max_pool2d instead.\n",
      "\n",
      "Model: \"sequential_1\"\n",
      "_________________________________________________________________\n",
      " Layer (type)                Output Shape              Param #   \n",
      "=================================================================\n",
      " conv2d (Conv2D)             (None, 28, 28, 6)         60        \n",
      "                                                                 \n",
      " max_pooling2d (MaxPooling2  (None, 14, 14, 6)         0         \n",
      " D)                                                              \n",
      "                                                                 \n",
      " conv2d_1 (Conv2D)           (None, 14, 14, 8)         440       \n",
      "                                                                 \n",
      " max_pooling2d_1 (MaxPoolin  (None, 7, 7, 8)           0         \n",
      " g2D)                                                            \n",
      "                                                                 \n",
      " flatten_1 (Flatten)         (None, 392)               0         \n",
      "                                                                 \n",
      " dense_4 (Dense)             (None, 16)                6288      \n",
      "                                                                 \n",
      " dense_5 (Dense)             (None, 10)                170       \n",
      "                                                                 \n",
      "=================================================================\n",
      "Total params: 6958 (27.18 KB)\n",
      "Trainable params: 6958 (27.18 KB)\n",
      "Non-trainable params: 0 (0.00 Byte)\n",
      "_________________________________________________________________\n"
     ]
    }
   ],
   "source": [
    "# Define the CNN model\n",
    "model1 = keras.Sequential()\n",
    "\n",
    "# Add the layers to the model\n",
    "model1.add(keras.layers.Conv2D(6, (3, 3), activation='relu', padding='same', input_shape=(28, 28, 1)))\n",
    "model1.add(keras.layers.MaxPooling2D((2, 2)))\n",
    "model1.add(keras.layers.Conv2D(8, (3, 3), activation='relu', padding='same'))\n",
    "model1.add(keras.layers.MaxPooling2D((2, 2)))\n",
    "model1.add(keras.layers.Flatten())\n",
    "model1.add(keras.layers.Dense(16, activation='relu'))\n",
    "model1.add(keras.layers.Dense(10, activation='softmax'))\n",
    "model1.summary()"
   ]
  },
  {
   "cell_type": "markdown",
   "id": "a2166f63",
   "metadata": {},
   "source": [
    "model.summary()"
   ]
  },
  {
   "cell_type": "markdown",
   "id": "1916b4a0",
   "metadata": {},
   "source": [
    "### Compile the network"
   ]
  },
  {
   "cell_type": "code",
   "execution_count": 19,
   "id": "4a82586c",
   "metadata": {},
   "outputs": [],
   "source": [
    "model1.compile(optimizer='adam', loss='categorical_crossentropy', metrics=['accuracy'])\n"
   ]
  },
  {
   "cell_type": "markdown",
   "id": "fff12da4",
   "metadata": {},
   "source": [
    "### Train the network"
   ]
  },
  {
   "cell_type": "code",
   "execution_count": 20,
   "id": "d1f3f164",
   "metadata": {},
   "outputs": [
    {
     "name": "stdout",
     "output_type": "stream",
     "text": [
      "Epoch 1/10\n",
      "1719/1719 [==============================] - 5s 2ms/step - loss: 0.5776 - accuracy: 0.7937 - val_loss: 90.9548 - val_accuracy: 0.7754\n",
      "Epoch 2/10\n",
      "1719/1719 [==============================] - 4s 2ms/step - loss: 0.4100 - accuracy: 0.8549 - val_loss: 71.4961 - val_accuracy: 0.8058\n",
      "Epoch 3/10\n",
      "1719/1719 [==============================] - 4s 3ms/step - loss: 0.3783 - accuracy: 0.8656 - val_loss: 64.3432 - val_accuracy: 0.8192\n",
      "Epoch 4/10\n",
      "1719/1719 [==============================] - 4s 2ms/step - loss: 0.3531 - accuracy: 0.8751 - val_loss: 61.5476 - val_accuracy: 0.8187\n",
      "Epoch 5/10\n",
      "1719/1719 [==============================] - 5s 3ms/step - loss: 0.3350 - accuracy: 0.8817 - val_loss: 74.9016 - val_accuracy: 0.8037\n",
      "Epoch 6/10\n",
      "1719/1719 [==============================] - 5s 3ms/step - loss: 0.3209 - accuracy: 0.8860 - val_loss: 48.6208 - val_accuracy: 0.8574\n",
      "Epoch 7/10\n",
      "1719/1719 [==============================] - 5s 3ms/step - loss: 0.3074 - accuracy: 0.8896 - val_loss: 61.1766 - val_accuracy: 0.8353\n",
      "Epoch 8/10\n",
      "1719/1719 [==============================] - 5s 3ms/step - loss: 0.2980 - accuracy: 0.8932 - val_loss: 66.3692 - val_accuracy: 0.8246\n",
      "Epoch 9/10\n",
      "1719/1719 [==============================] - 5s 3ms/step - loss: 0.2881 - accuracy: 0.8962 - val_loss: 79.5072 - val_accuracy: 0.8056\n",
      "Epoch 10/10\n",
      "1719/1719 [==============================] - 5s 3ms/step - loss: 0.2799 - accuracy: 0.8998 - val_loss: 46.5852 - val_accuracy: 0.8684\n"
     ]
    },
    {
     "data": {
      "text/plain": [
       "<keras.src.callbacks.History at 0x1d5bf16d610>"
      ]
     },
     "execution_count": 20,
     "metadata": {},
     "output_type": "execute_result"
    }
   ],
   "source": [
    "model1.fit(X_train, y_train, epochs=10, batch_size=32, validation_data=(X_test, y_test))\n"
   ]
  },
  {
   "cell_type": "markdown",
   "id": "44ea5c34",
   "metadata": {},
   "source": [
    "### Evlauate the network (model)"
   ]
  },
  {
   "cell_type": "code",
   "execution_count": 21,
   "id": "411a9096",
   "metadata": {},
   "outputs": [
    {
     "name": "stdout",
     "output_type": "stream",
     "text": [
      "313/313 [==============================] - 0s 1ms/step - loss: 46.5852 - accuracy: 0.8684\n",
      "Test accuracy: 0.868399977684021\n"
     ]
    }
   ],
   "source": [
    "test_loss, test_acc = model1.evaluate(X_test, y_test)\n",
    "print('Test accuracy:', test_acc)\n"
   ]
  },
  {
   "cell_type": "code",
   "execution_count": null,
   "id": "1fa88c4d-36fc-4cc9-a707-f9060321d23a",
   "metadata": {},
   "outputs": [],
   "source": []
  }
 ],
 "metadata": {
  "kernelspec": {
   "display_name": "Python 3 (ipykernel)",
   "language": "python",
   "name": "python3"
  },
  "language_info": {
   "codemirror_mode": {
    "name": "ipython",
    "version": 3
   },
   "file_extension": ".py",
   "mimetype": "text/x-python",
   "name": "python",
   "nbconvert_exporter": "python",
   "pygments_lexer": "ipython3",
   "version": "3.11.3"
  }
 },
 "nbformat": 4,
 "nbformat_minor": 5
}
